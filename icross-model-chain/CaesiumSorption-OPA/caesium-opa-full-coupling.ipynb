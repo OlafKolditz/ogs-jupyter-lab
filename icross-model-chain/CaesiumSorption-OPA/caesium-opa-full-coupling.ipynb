{
 "cells": [
  {
   "cell_type": "markdown",
   "id": "4e9d80fb-996f-4173-9789-90990edbd41f",
   "metadata": {
    "tags": []
   },
   "source": [
    "**ogs@jupyter-lab Reactive transport of Cs in diffusion-controlled conditions**"
   ]
  },
  {
   "cell_type": "markdown",
   "id": "e849710e-80aa-4219-a380-aaa370a3823d",
   "metadata": {},
   "source": [
    "<table><tr>\n",
    "<td> <img src=\"../ogs-workflows.png\" alt=\"Drawing\" style=\"width: 300px;\"/> </td>\n",
    "<td> <img src=\"../icross-logo-ok.png\" alt=\"Drawing\" style=\"width: 100px;\"/> </td>\n",
    "</tr></table>"
   ]
  },
  {
   "cell_type": "markdown",
   "id": "742ee5ab-884d-47bc-be66-db91a1f58445",
   "metadata": {},
   "source": [
    "In OGS, a reactive transport simulation is enabled by adding the keyword `<chemical_system>`:\n",
    "```XML\n",
    "    <chemical_system chemical_solver=\"Phreeqc\">\n",
    "        <mesh>ReactiveDomain_opa_ics</mesh>\n",
    "        <database>ThermoChimie_PHREEQC_Davies_electron_v9b0_noCsCl_with_sorption.dat</database>\n",
    "        <linear_solver>general_linear_solver</linear_solver>\n",
    "        <solution>\n",
    "            <temperature>25</temperature>\n",
    "            <pressure>1</pressure>\n",
    "            <pe>-2</pe>\n",
    "            <components>\n",
    "                <component>C(4)</component>\n",
    "                <component>Ca</component>\n",
    "                <component>Cl</component>\n",
    "                <component>Cs</component>\n",
    "                <component>K</component>\n",
    "                <component>Mg</component>\n",
    "                <component>Na</component>\n",
    "                <component>S(6)</component>\n",
    "                <component>Sr</component>\n",
    "            </components>\n",
    "        </solution>\n",
    "        <surface site_unit=\"mole\">\n",
    "            <site>\n",
    "                <name>Su_</name>\n",
    "            </site>\n",
    "            <site>\n",
    "                <name>Su_fes</name>\n",
    "            </site>\n",
    "            <site>\n",
    "                <name>Su_ii</name>\n",
    "            </site>\n",
    "        </surface>\n",
    "        <knobs>\n",
    "            <max_iter>500</max_iter>\n",
    "            <relative_convergence_tolerance>1e-13</relative_convergence_tolerance>\n",
    "            <tolerance>1e-15</tolerance>\n",
    "            <step_size>100</step_size>\n",
    "            <scaling>0</scaling>\n",
    "        </knobs>\n",
    "    </chemical_system>\n",
    "```\n",
    "\n",
    "In this setup, three sorption sites are being added to the model (from Phreeqc-format database `ThermoChimie_PHREEQC_Davies_electron_v9b0_noCsCl_with_sorption.dat`). However, the amount of sorption sites has to be passed to OGS as a media component in the solid phase (under the `<media>/<medium>/<phase>/<type>Solid</type>`). For instance, the `Su_` site amount in moles is added as follows:\n",
    "\n",
    "```XML\n",
    "<phase>\n",
    "    <type>Solid</type>\n",
    "    <components>\n",
    "        <component>\n",
    "            <name>Su_</name>\n",
    "            <properties>\n",
    "                <property>\n",
    "                    <name>molality</name>\n",
    "                    <type>Constant</type>\n",
    "                    <value>1.4250e+00</value>\n",
    "                </property>\n",
    "            </properties>\n",
    "        </component>\n",
    "        ...\n",
    "```\n",
    "\n",
    "                  "
   ]
  },
  {
   "cell_type": "markdown",
   "id": "358c9f44-8e0e-44ec-823d-45993eec8ba3",
   "metadata": {},
   "source": [
    "The file `caesium.prj` already contains the chemical system definition and site quantities. First, validate the `caesium.prj` file:"
   ]
  },
  {
   "cell_type": "code",
   "execution_count": 4,
   "id": "fce23737-bb1b-447a-b140-246cfef99cbc",
   "metadata": {},
   "outputs": [],
   "source": [
    "!xmllint --noout caesium.prj"
   ]
  },
  {
   "cell_type": "markdown",
   "id": "649b6db7-2961-41cf-9a26-c0d4df72420f",
   "metadata": {},
   "source": [
    "Then, run the ogs model with `ogs6py`."
   ]
  },
  {
   "cell_type": "markdown",
   "id": "7a8f4b82-c8b7-4795-9508-ed0200dede3f",
   "metadata": {
    "tags": []
   },
   "source": [
    "### ***1) OGS pre-processing utilities***\n",
    "\n",
    "An extra utility is used for the reactive transport case. The `identifySubdomains` tool is used to create a \"reactive\" mesh. The utility should be used after `GMSH2OGS` and `NodeReordering`. \n"
   ]
  },
  {
   "cell_type": "code",
   "execution_count": 18,
   "id": "398b8830-8ffe-4d60-a8ef-4f93038c493b",
   "metadata": {},
   "outputs": [
    {
     "name": "stdout",
     "output_type": "stream",
     "text": [
      "[2021-11-24 16:10:15.274] [ogs] [info] Reading opa.msh.\n",
      "[2021-11-24 16:10:15.275] [ogs] [info] \t... finished.\n",
      "[2021-11-24 16:10:15.275] [ogs] [info] Nr. Nodes: 51.\n",
      "[2021-11-24 16:10:15.275] [ogs] [info] Nr. Elements: 50.\n",
      "[2021-11-24 16:10:15.275] [ogs] [info] Mem for mesh: 0 MiB\n",
      "[2021-11-24 16:10:15.275] [ogs] [info] Time for reading: 0.000172 seconds.\n",
      "[2021-11-24 16:10:15.275] [ogs] [info] Read 51 nodes and 50 elements.\n",
      "[2021-11-24 16:10:15.275] [ogs] [info] Removing total 50 elements...\n",
      "[2021-11-24 16:10:15.275] [ogs] [info] 0 elements remain in mesh.\n",
      "[2021-11-24 16:10:15.275] [ogs] [info] Removing total 51 nodes...\n",
      "[2021-11-24 16:10:15.275] [ogs] [info] Current selection removes all elements.\n",
      "[2021-11-24 16:10:15.275] [ogs] [info] Mesh does not contain any lines.\n",
      "[2021-11-24 16:10:15.275] [ogs] [info] Please check your mesh carefully!\n",
      "[2021-11-24 16:10:15.275] [ogs] [info] Degenerated or redundant mesh elements can cause OGS to stop or misbehave.\n",
      "[2021-11-24 16:10:15.275] [ogs] [info] Use the -e option to delete redundant line elements.\n",
      "[2021-11-24 16:10:15.275] [ogs] [info] Node coordinates:\n",
      "[2021-11-24 16:10:15.275] [ogs] [info] \tx [0, 20] (extent 20)\n",
      "[2021-11-24 16:10:15.275] [ogs] [info] \ty [0, 4.94066e-324] (extent 4.94066e-324)\n",
      "[2021-11-24 16:10:15.275] [ogs] [info] \tz [0, 4.94066e-324] (extent 4.94066e-324)\n",
      "[2021-11-24 16:10:15.275] [ogs] [info] Edge length: [0.4, 0.4]\n",
      "[2021-11-24 16:10:15.275] [ogs] [info] Number of elements in the mesh:\n",
      "[2021-11-24 16:10:15.275] [ogs] [info] \tLines: 50\n",
      "[2021-11-24 16:10:15.275] [ogs] [info] There are 1 properties in the mesh:\n",
      "[2021-11-24 16:10:15.275] [ogs] [info] \tMaterialIDs: (50 values) [0, 0]\n",
      "[2021-11-24 16:10:15.292] [ogs] [info] Reordering nodes... \n",
      "[2021-11-24 16:10:15.292] [ogs] [info] Corrected 0 elements.\n",
      "[2021-11-24 16:10:15.293] [ogs] [info] VTU file written.\n"
     ]
    },
    {
     "data": {
      "text/plain": [
       "0"
      ]
     },
     "execution_count": 18,
     "metadata": {},
     "output_type": "execute_result"
    }
   ],
   "source": [
    "import os\n",
    "mesh = \"opa\"\n",
    "os.system(\"GMSH2OGS -e -i {}.msh -o {}.vtu\".format(mesh, mesh))\n",
    "os.system(\"NodeReordering -i {}.vtu -o {}.vtu\".format(mesh, mesh))\n",
    "os.system(\"constructMeshesFromGeometry -m {}.vtu -g {}.gml -s 1e-6\".format(mesh, mesh))\n",
    "# OGS utility to create reactive mesh:\n",
    "os.system(\"identifySubdomains -m {}.vtu -o ReactiveDomain_ -- {}.vtu\".format(mesh, mesh))"
   ]
  },
  {
   "cell_type": "markdown",
   "id": "9db2fe60-7bb6-4017-9bbc-87114b4ac722",
   "metadata": {
    "tags": []
   },
   "source": [
    "### ***2) Run OGS-6#iPHREEQC with `ogs6py`***\n",
    "\n",
    "**Note:** The simulation takes about 2.5 hours!"
   ]
  },
  {
   "cell_type": "code",
   "execution_count": 21,
   "id": "79991fda-9cc2-4cb8-a6d6-1de56ee25f5e",
   "metadata": {},
   "outputs": [
    {
     "name": "stdout",
     "output_type": "stream",
     "text": [
      ">>> model running <<<\n",
      "OGS finished with project file caesium.prj.\n",
      "Execution took 8612.845652103424 s\n"
     ]
    }
   ],
   "source": [
    "from ogs6py import ogs\n",
    "model = ogs.OGS(PROJECT_FILE=\"caesium.prj\")\n",
    "print(\">>> model running <<<\")\n",
    "#os.system(\"mkdir output\")\n",
    "model.run_model(write_logs=False, args=\"-o ./output\")"
   ]
  },
  {
   "cell_type": "markdown",
   "id": "835a1c90-acee-45ce-9337-58362aeb5497",
   "metadata": {
    "tags": []
   },
   "source": [
    "### ***3) Model output***"
   ]
  },
  {
   "cell_type": "code",
   "execution_count": 49,
   "id": "f5d4fdb2-2605-42d8-b560-a5d47a23fc6e",
   "metadata": {},
   "outputs": [
    {
     "name": "stdout",
     "output_type": "stream",
     "text": [
      ">>> print results <<<\n"
     ]
    },
    {
     "data": {
      "image/png": "[encoded data removed]",
      "text/plain": [
       "<Figure size 576x432 with 1 Axes>"
      ]
     },
     "metadata": {
      "needs_background": "light"
     },
     "output_type": "display_data"
    }
   ],
   "source": [
    "import vtuIO\n",
    "import numpy as np\n",
    "import matplotlib.pyplot as plt\n",
    "from matplotlib.pyplot import cm\n",
    "\n",
    "plt.style.use('../notebook.mplstyle')\n",
    "print(\">>> print results <<<\")\n",
    "\n",
    "pvdfile=vtuIO.PVDIO(\"./output/out.pvd\", dim=1)\n",
    "xaxis =  [(i,0,0) for i in np.linspace(start=0.0, stop=20, num=100)]\n",
    "r_x = np.array(xaxis)[:,0]\n",
    "time_pvd = pvdfile.timesteps\n",
    "\n",
    "def find_nearest(array, value):\n",
    "    array = np.asarray(array)\n",
    "    idx = (np.abs(array - value)).argmin()\n",
    "    return array[idx]\n",
    "\n",
    "time = [\n",
    "    find_nearest(time_pvd, 0),\n",
    "    find_nearest(time_pvd, 3.1536e11),\n",
    "    find_nearest(time_pvd, 3.1536e12),\n",
    "    find_nearest(time_pvd, 3.1536e13)\n",
    "]\n",
    "\n",
    "color=iter(cm.rainbow(np.linspace(0,1,len(time))))\n",
    "for t, color in zip(time, color):\n",
    "    y = pvdfile.read_set_data(t, 'Cs', pointsetarray=xaxis)\n",
    "    plt.plot(r_x, y, label='t = {:.0e} a.'.format(t/365/3600/24), color=color, linestyle=\"-\")\n",
    "    \n",
    "plt.yscale(\"log\")\n",
    "plt.title(\"Cs diffusion-sorption in Opalinus clay\")\n",
    "plt.xlim(0,20)\n",
    "plt.xlabel('x [m]')\n",
    "plt.ylabel('Cs concentration [mol/kgw]')\n",
    "\n",
    "plt.legend()\n",
    "plt.show()"
   ]
  },
  {
   "cell_type": "markdown",
   "id": "aed46c12-13fa-4070-a210-45656c5a2619",
   "metadata": {
    "tags": []
   },
   "source": [
    "### ***4) Non-uniform mesh setup***\n",
    "\n",
    "It is worth exploring if the oscillations produced due to the high concentration gradient at the inlet boundary can be mitigated. One possible solution is to use a mesh with smaller elements at the boundary. This can be done in `GMSH` using a `Transfinite Line` (see file `opa-progressive.geo`).  "
   ]
  },
  {
   "cell_type": "code",
   "execution_count": 46,
   "id": "83b65768-ef03-44da-affd-30944b7c3cae",
   "metadata": {},
   "outputs": [
    {
     "name": "stdout",
     "output_type": "stream",
     "text": [
      "[2021-11-25 09:08:12.792] [ogs] [info] Reading opa-progressive.msh.\n",
      "[2021-11-25 09:08:12.793] [ogs] [info] \t... finished.\n",
      "[2021-11-25 09:08:12.793] [ogs] [info] Nr. Nodes: 51.\n",
      "[2021-11-25 09:08:12.793] [ogs] [info] Nr. Elements: 50.\n",
      "[2021-11-25 09:08:12.793] [ogs] [info] Mem for mesh: 0 MiB\n",
      "[2021-11-25 09:08:12.793] [ogs] [info] Time for reading: 0.000280 seconds.\n",
      "[2021-11-25 09:08:12.793] [ogs] [info] Read 51 nodes and 50 elements.\n",
      "[2021-11-25 09:08:12.793] [ogs] [info] Removing total 50 elements...\n",
      "[2021-11-25 09:08:12.793] [ogs] [info] 0 elements remain in mesh.\n",
      "[2021-11-25 09:08:12.793] [ogs] [info] Removing total 51 nodes...\n",
      "[2021-11-25 09:08:12.793] [ogs] [info] Current selection removes all elements.\n",
      "[2021-11-25 09:08:12.793] [ogs] [info] Mesh does not contain any lines.\n",
      "[2021-11-25 09:08:12.793] [ogs] [info] Please check your mesh carefully!\n",
      "[2021-11-25 09:08:12.793] [ogs] [info] Degenerated or redundant mesh elements can cause OGS to stop or misbehave.\n",
      "[2021-11-25 09:08:12.793] [ogs] [info] Use the -e option to delete redundant line elements.\n",
      "[2021-11-25 09:08:12.793] [ogs] [info] Node coordinates:\n",
      "[2021-11-25 09:08:12.793] [ogs] [info] \tx [0, 20] (extent 20)\n",
      "[2021-11-25 09:08:12.793] [ogs] [info] \ty [0, 4.94066e-324] (extent 4.94066e-324)\n",
      "[2021-11-25 09:08:12.793] [ogs] [info] \tz [0, 4.94066e-324] (extent 4.94066e-324)\n",
      "[2021-11-25 09:08:12.793] [ogs] [info] Edge length: [0.0955347, 1.04337]\n",
      "[2021-11-25 09:08:12.793] [ogs] [info] Number of elements in the mesh:\n",
      "[2021-11-25 09:08:12.793] [ogs] [info] \tLines: 50\n",
      "[2021-11-25 09:08:12.793] [ogs] [info] There are 1 properties in the mesh:\n",
      "[2021-11-25 09:08:12.793] [ogs] [info] \tMaterialIDs: (50 values) [0, 0]\n",
      "[2021-11-25 09:08:12.809] [ogs] [info] Reordering nodes... \n",
      "[2021-11-25 09:08:12.809] [ogs] [info] Corrected 0 elements.\n",
      "[2021-11-25 09:08:12.811] [ogs] [info] VTU file written.\n"
     ]
    },
    {
     "data": {
      "text/plain": [
       "0"
      ]
     },
     "execution_count": 46,
     "metadata": {},
     "output_type": "execute_result"
    }
   ],
   "source": [
    "import os\n",
    "mesh = \"opa-progressive\"\n",
    "os.system(\"GMSH2OGS -e -i {}.msh -o {}.vtu\".format(mesh, mesh))\n",
    "os.system(\"NodeReordering -i {}.vtu -o {}.vtu\".format(mesh, mesh))\n",
    "os.system(\"identifySubdomains -m {}.vtu -o ReactiveDomain_ -- {}.vtu\".format(mesh, mesh))"
   ]
  },
  {
   "cell_type": "markdown",
   "id": "bcbc4f1f-9a63-49d9-b35e-3d42a4e0fad6",
   "metadata": {},
   "source": [
    "The project file `caesium-progressive.prj` uses the new mesh setup. Note that this setup uses the same number of elements, therefore, the computation cost should not increase. "
   ]
  },
  {
   "cell_type": "code",
   "execution_count": 8,
   "id": "2f65e0da-762f-4d09-9dad-233c09dcf719",
   "metadata": {},
   "outputs": [
    {
     "name": "stdout",
     "output_type": "stream",
     "text": [
      ">>> model running <<<\n",
      "OGS finished with project file caesium-progressive.prj.\n",
      "Execution took 8578.984436035156 s\n"
     ]
    }
   ],
   "source": [
    "from ogs6py import ogs\n",
    "model_progressive = ogs.OGS(PROJECT_FILE=\"caesium-progressive.prj\")\n",
    "print(\">>> model running <<<\")\n",
    "model_progressive.run_model(write_logs=False, args=\"-o ./output\")"
   ]
  },
  {
   "cell_type": "markdown",
   "id": "dbcdfcee-4540-4579-8137-159b40a91452",
   "metadata": {},
   "source": [
    "Then results can be compared:"
   ]
  },
  {
   "cell_type": "code",
   "execution_count": 48,
   "id": "9ff86894-6c3c-4a50-aefa-0f252c6afa10",
   "metadata": {},
   "outputs": [
    {
     "name": "stdout",
     "output_type": "stream",
     "text": [
      ">>> print results <<<\n"
     ]
    },
    {
     "data": {
      "image/png": "[encoded data removed]",
      "text/plain": [
       "<Figure size 576x432 with 1 Axes>"
      ]
     },
     "metadata": {
      "needs_background": "light"
     },
     "output_type": "display_data"
    }
   ],
   "source": [
    "print(\">>> print results <<<\")\n",
    "\n",
    "pvdfile_fine=vtuIO.PVDIO(\"./output/outProgressive.pvd\", dim=1)\n",
    "time_pvd = pvdfile.timesteps\n",
    "\n",
    "def find_nearest(array, value):\n",
    "    array = np.asarray(array)\n",
    "    idx = (np.abs(array - value)).argmin()\n",
    "    return array[idx]\n",
    "\n",
    "time = [\n",
    "    find_nearest(time_pvd, 0),\n",
    "    find_nearest(time_pvd, 3.1536e11),\n",
    "    find_nearest(time_pvd, 3.1536e12),\n",
    "    find_nearest(time_pvd, 3.1536e13)\n",
    "]\n",
    "\n",
    "color=iter(cm.rainbow(np.linspace(0,1,len(time))))\n",
    "for t, color in zip(time, color):\n",
    "    y_fine = pvdfile_fine.read_set_data(t, 'Cs', pointsetarray=xaxis)\n",
    "    plt.plot(r_x, y_fine, label='t = {:.0e} a.'.format(t/365/3600/24), color=color, linestyle=\"-\")\n",
    "\n",
    "y = pvdfile.read_set_data(time[-1], 'Cs', pointsetarray=xaxis)\n",
    "plt.plot(r_x, y, label='t = {:.0e} a. (uniform mesh)'.format(t/365/3600/24), color='gray', linestyle=\"--\")\n",
    "    \n",
    "plt.yscale(\"log\")\n",
    "plt.title(\"Uniform vs non-uniform mesh comparison\")\n",
    "plt.xlim(0,20)\n",
    "plt.xlabel('x [m]')\n",
    "plt.ylabel('Cs concentration [mol/kgw]')\n",
    "\n",
    "plt.legend()\n",
    "plt.show()"
   ]
  }
 ],
 "metadata": {
  "kernelspec": {
   "display_name": "Python 3 (ipykernel)",
   "language": "python",
   "name": "python3"
  },
  "language_info": {
   "codemirror_mode": {
    "name": "ipython",
    "version": 3
   },
   "file_extension": ".py",
   "mimetype": "text/x-python",
   "name": "python",
   "nbconvert_exporter": "python",
   "pygments_lexer": "ipython3",
   "version": "3.9.7"
  }
 },
 "nbformat": 4,
 "nbformat_minor": 5
}
